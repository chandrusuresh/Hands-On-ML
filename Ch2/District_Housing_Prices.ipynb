{
  "nbformat": 4,
  "nbformat_minor": 0,
  "metadata": {
    "colab": {
      "name": "District_Housing_Prices.ipynb",
      "provenance": [],
      "toc_visible": true,
      "mount_file_id": "https://github.com/chandrusuresh/Hands-On-ML/blob/master/Ch2/District_Housing_Prices.ipynb",
      "authorship_tag": "ABX9TyPYrCzky78PDfJoo1K28i2L",
      "include_colab_link": true
    },
    "kernelspec": {
      "name": "python3",
      "display_name": "Python 3"
    }
  },
  "cells": [
    {
      "cell_type": "markdown",
      "metadata": {
        "id": "view-in-github",
        "colab_type": "text"
      },
      "source": [
        "<a href=\"https://colab.research.google.com/github/chandrusuresh/Hands-On-ML/blob/master/Ch2/District_Housing_Prices.ipynb\" target=\"_parent\"><img src=\"https://colab.research.google.com/assets/colab-badge.svg\" alt=\"Open In Colab\"/></a>"
      ]
    },
    {
      "cell_type": "code",
      "metadata": {
        "id": "5kkZgGR5t65Z",
        "colab_type": "code",
        "colab": {
          "base_uri": "https://localhost:8080/",
          "height": 33
        },
        "outputId": "a45d30ae-5761-4d5c-d514-16e8b59abf7c"
      },
      "source": [
        "import numpy as np\n",
        "import matplotlib.pyplot as plt\n",
        "%matplotlib inline\n",
        "\n",
        "import tarfile\n",
        "import urllib\n",
        "\n",
        "from google.colab import drive\n",
        "drive.mount('/content/drive')"
      ],
      "execution_count": 1,
      "outputs": [
        {
          "output_type": "stream",
          "text": [
            "Drive already mounted at /content/drive; to attempt to forcibly remount, call drive.mount(\"/content/drive\", force_remount=True).\n"
          ],
          "name": "stdout"
        }
      ]
    },
    {
      "cell_type": "markdown",
      "metadata": {
        "id": "0d80QLHhvJir",
        "colab_type": "text"
      },
      "source": [
        "### Data Download"
      ]
    },
    {
      "cell_type": "code",
      "metadata": {
        "id": "yc2RFnMmvLdQ",
        "colab_type": "code",
        "colab": {}
      },
      "source": [
        "# DOWNLOAD_ROOT = \"https://raw.giuthubusercontent.com/ageron/handson-ml2/master/\"\n",
        "# HOUSING_URL = DOWNLOAD_ROOT + \"datasets/housing/housing.tgz\"\n",
        "\n",
        "# # os.path.exists(/content/drive)"
      ],
      "execution_count": 2,
      "outputs": []
    }
  ]
}