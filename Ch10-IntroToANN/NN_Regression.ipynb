{
  "nbformat": 4,
  "nbformat_minor": 0,
  "metadata": {
    "colab": {
      "name": "NN_Regression.ipynb",
      "provenance": [],
      "authorship_tag": "ABX9TyPF7aBdU9mHBDpKvsFrKDJp",
      "include_colab_link": true
    },
    "kernelspec": {
      "name": "python3",
      "display_name": "Python 3"
    }
  },
  "cells": [
    {
      "cell_type": "markdown",
      "metadata": {
        "id": "view-in-github",
        "colab_type": "text"
      },
      "source": [
        "<a href=\"https://colab.research.google.com/github/chandrusuresh/Hands-On-ML/blob/master/Ch10-IntroToANN/NN_Regression.ipynb\" target=\"_parent\"><img src=\"https://colab.research.google.com/assets/colab-badge.svg\" alt=\"Open In Colab\"/></a>"
      ]
    },
    {
      "cell_type": "code",
      "metadata": {
        "id": "GHSMxyFeXtm-",
        "colab_type": "code",
        "colab": {}
      },
      "source": [
        "import tensorflow as tf\n",
        "from tensorflow import keras\n",
        "import matplotlib.pyplot as plt\n",
        "%matplotlib inline"
      ],
      "execution_count": 1,
      "outputs": []
    },
    {
      "cell_type": "markdown",
      "metadata": {
        "id": "UXPly17cYSA2",
        "colab_type": "text"
      },
      "source": [
        "## California Housing Prices"
      ]
    },
    {
      "cell_type": "code",
      "metadata": {
        "id": "mEW7gw-QYVSr",
        "colab_type": "code",
        "colab": {
          "base_uri": "https://localhost:8080/",
          "height": 34
        },
        "outputId": "4c3cfe0e-9908-4386-a485-951abea805bd"
      },
      "source": [
        "from sklearn.datasets import fetch_california_housing\n",
        "from sklearn.model_selection import train_test_split\n",
        "from sklearn.preprocessing import StandardScaler\n",
        "\n",
        "housing = fetch_california_housing()\n",
        "X_train_full,X_test,y_train_full,y_test = train_test_split(housing.data,housing.target)\n",
        "X_train,X_valid,y_train,y_valid = train_test_split(X_train_full,y_train_full)\n",
        "\n",
        "scaler = StandardScaler()\n",
        "X_train = scaler.fit_transform(X_train)\n",
        "X_valid = scaler.transform(X_valid)\n",
        "X_test = scaler.transform(X_test)"
      ],
      "execution_count": 2,
      "outputs": [
        {
          "output_type": "stream",
          "text": [
            "Downloading Cal. housing from https://ndownloader.figshare.com/files/5976036 to /root/scikit_learn_data\n"
          ],
          "name": "stderr"
        }
      ]
    },
    {
      "cell_type": "code",
      "metadata": {
        "id": "lbOe2hwUas1V",
        "colab_type": "code",
        "colab": {
          "base_uri": "https://localhost:8080/",
          "height": 714
        },
        "outputId": "b637b10d-5168-49c2-f3d6-749d7d4e89fd"
      },
      "source": [
        "model = keras.models.Sequential([\n",
        "                                 keras.layers.Dense(30,activation=keras.activations.relu,input_shape=(X_train.shape[1:])),\n",
        "                                 keras.layers.Dense(1)\n",
        "\n",
        "])\n",
        "model.compile(loss=keras.losses.mean_squared_error,optimizer=keras.optimizers.SGD(lr=0.01))\n",
        "history=model.fit(X_train,y_train,epochs=20,validation_data=(X_valid,y_valid))"
      ],
      "execution_count": 3,
      "outputs": [
        {
          "output_type": "stream",
          "text": [
            "Epoch 1/20\n",
            "363/363 [==============================] - 0s 1ms/step - loss: 0.9949 - val_loss: 0.6488\n",
            "Epoch 2/20\n",
            "363/363 [==============================] - 0s 1ms/step - loss: 0.7057 - val_loss: 3.5091\n",
            "Epoch 3/20\n",
            "363/363 [==============================] - 0s 968us/step - loss: 3.3714 - val_loss: 0.9506\n",
            "Epoch 4/20\n",
            "363/363 [==============================] - 0s 1ms/step - loss: 0.6022 - val_loss: 0.4175\n",
            "Epoch 5/20\n",
            "363/363 [==============================] - 0s 962us/step - loss: 0.4138 - val_loss: 0.3950\n",
            "Epoch 6/20\n",
            "363/363 [==============================] - 0s 975us/step - loss: 0.3924 - val_loss: 0.3855\n",
            "Epoch 7/20\n",
            "363/363 [==============================] - 0s 1ms/step - loss: 0.3843 - val_loss: 0.3818\n",
            "Epoch 8/20\n",
            "363/363 [==============================] - 0s 990us/step - loss: 0.3787 - val_loss: 0.3972\n",
            "Epoch 9/20\n",
            "363/363 [==============================] - 0s 1ms/step - loss: 0.3752 - val_loss: 0.3762\n",
            "Epoch 10/20\n",
            "363/363 [==============================] - 0s 989us/step - loss: 0.3720 - val_loss: 0.3720\n",
            "Epoch 11/20\n",
            "363/363 [==============================] - 0s 998us/step - loss: 0.3690 - val_loss: 0.3787\n",
            "Epoch 12/20\n",
            "363/363 [==============================] - 0s 1ms/step - loss: 0.3649 - val_loss: 0.3726\n",
            "Epoch 13/20\n",
            "363/363 [==============================] - 0s 998us/step - loss: 0.3656 - val_loss: 0.3657\n",
            "Epoch 14/20\n",
            "363/363 [==============================] - 0s 1ms/step - loss: 0.3636 - val_loss: 0.3642\n",
            "Epoch 15/20\n",
            "363/363 [==============================] - 0s 1ms/step - loss: 0.3613 - val_loss: 0.3663\n",
            "Epoch 16/20\n",
            "363/363 [==============================] - 0s 971us/step - loss: 0.3592 - val_loss: 0.3635\n",
            "Epoch 17/20\n",
            "363/363 [==============================] - 0s 964us/step - loss: 0.3581 - val_loss: 0.3611\n",
            "Epoch 18/20\n",
            "363/363 [==============================] - 0s 1ms/step - loss: 0.3565 - val_loss: 0.3592\n",
            "Epoch 19/20\n",
            "363/363 [==============================] - 0s 990us/step - loss: 0.3542 - val_loss: 0.3580\n",
            "Epoch 20/20\n",
            "363/363 [==============================] - 0s 1ms/step - loss: 0.3530 - val_loss: 0.3572\n",
            "162/162 [==============================] - 0s 664us/step - loss: 0.3726\n"
          ],
          "name": "stdout"
        }
      ]
    },
    {
      "cell_type": "code",
      "metadata": {
        "id": "krNiJbcBbwOl",
        "colab_type": "code",
        "colab": {
          "base_uri": "https://localhost:8080/",
          "height": 34
        },
        "outputId": "d8d743dc-1402-4313-9a3e-5b295d4e56ae"
      },
      "source": [
        "mse_test = model.evaluate(X_test,y_test)"
      ],
      "execution_count": 4,
      "outputs": [
        {
          "output_type": "stream",
          "text": [
            "162/162 [==============================] - 0s 847us/step - loss: 0.3726\n"
          ],
          "name": "stdout"
        }
      ]
    },
    {
      "cell_type": "markdown",
      "metadata": {
        "id": "YDx9jgTbDtiH",
        "colab_type": "text"
      },
      "source": [
        "## Functional API\n",
        "One example of a nonsequential neural network is a Wide & Deep NN called `widedeep`. It connects all or part of the inputs directly to the output layer. This architecture makes it possible for the neural network to learn both deep patterns (using the deep path) and simple rules (through the short path). The short path can also be used to provide manually engineering features to the neural network."
      ]
    },
    {
      "cell_type": "code",
      "metadata": {
        "id": "Ei54RMmaENbH",
        "colab_type": "code",
        "colab": {}
      },
      "source": [
        "input_ = keras.layers.Input(shape=X_train.shape[1:]);\n",
        "hidden1 = keras.layers.Dense(30,activation=keras.activations.relu)(input_);\n",
        "hidden2 = keras.layers.Dense(30,activation=keras.activations.relu)(hidden1);\n",
        "concat = keras.layers.Concatenate()([input_,hidden2]);\n",
        "output = keras.layers.Dense(1)(concat);\n",
        "model = keras.Model(inputs=[input_],outputs=[output]);"
      ],
      "execution_count": null,
      "outputs": []
    }
  ]
}