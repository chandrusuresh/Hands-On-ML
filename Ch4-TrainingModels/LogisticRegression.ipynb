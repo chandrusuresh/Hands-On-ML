{
  "nbformat": 4,
  "nbformat_minor": 0,
  "metadata": {
    "colab": {
      "name": "LogisticRegression.ipynb",
      "provenance": [],
      "authorship_tag": "ABX9TyNUbwvrM8+Ym6Vl2yJTcCIo",
      "include_colab_link": true
    },
    "kernelspec": {
      "name": "python3",
      "display_name": "Python 3"
    }
  },
  "cells": [
    {
      "cell_type": "markdown",
      "metadata": {
        "id": "view-in-github",
        "colab_type": "text"
      },
      "source": [
        "<a href=\"https://colab.research.google.com/github/chandrusuresh/Hands-On-ML/blob/master/Ch4-TrainingModels/LogisticRegression.ipynb\" target=\"_parent\"><img src=\"https://colab.research.google.com/assets/colab-badge.svg\" alt=\"Open In Colab\"/></a>"
      ]
    },
    {
      "cell_type": "code",
      "metadata": {
        "id": "C6Cgmt1Qf77o",
        "colab_type": "code",
        "colab": {}
      },
      "source": [
        "import numpy as np\n",
        "import matplotlib.pyplot as plt\n",
        "%matplotlib inline"
      ],
      "execution_count": 1,
      "outputs": []
    },
    {
      "cell_type": "markdown",
      "metadata": {
        "id": "inSowE-QgTTc",
        "colab_type": "text"
      },
      "source": [
        "## IRIS Dataset"
      ]
    },
    {
      "cell_type": "code",
      "metadata": {
        "id": "hFp7XjJBgVLb",
        "colab_type": "code",
        "colab": {
          "base_uri": "https://localhost:8080/",
          "height": 50
        },
        "outputId": "68d654ae-33cf-4690-e4d6-f9bdd620f405"
      },
      "source": [
        "from sklearn import datasets\n",
        "iris = datasets.load_iris()\n",
        "print(\"Feature Names:\",iris['feature_names'])\n",
        "print(\"Target Names:\",iris['target_names'])"
      ],
      "execution_count": 2,
      "outputs": [
        {
          "output_type": "stream",
          "text": [
            "Feature Names: ['sepal length (cm)', 'sepal width (cm)', 'petal length (cm)', 'petal width (cm)']\n",
            "Target Names: ['setosa' 'versicolor' 'virginica']\n"
          ],
          "name": "stdout"
        }
      ]
    },
    {
      "cell_type": "markdown",
      "metadata": {
        "id": "NzJYC2rAhOxl",
        "colab_type": "text"
      },
      "source": [
        "## Classify Iris Virginica"
      ]
    },
    {
      "cell_type": "code",
      "metadata": {
        "id": "iduyhx9yhSLs",
        "colab_type": "code",
        "colab": {}
      },
      "source": [
        "feature_index = 3 # Get petal width\n",
        "target_index = 2 # 1 if Iris Virginica, 0 otherwise\n",
        "X = iris['data'][:,feature_index:] \n",
        "y = (iris['target'] == target_index).astype(np.int)"
      ],
      "execution_count": 3,
      "outputs": []
    },
    {
      "cell_type": "markdown",
      "metadata": {
        "id": "61kZzV9thRtL",
        "colab_type": "text"
      },
      "source": [
        "## Logistic Regression"
      ]
    },
    {
      "cell_type": "markdown",
      "metadata": {
        "id": "ES_I3Zk7mbSr",
        "colab_type": "text"
      },
      "source": [
        "### Regression with petal width"
      ]
    },
    {
      "cell_type": "code",
      "metadata": {
        "id": "Lz7zEJczhssz",
        "colab_type": "code",
        "colab": {
          "base_uri": "https://localhost:8080/",
          "height": 98
        },
        "outputId": "77e01a1b-6859-4540-e76f-7e54a70a8ab4"
      },
      "source": [
        "from sklearn.linear_model import LogisticRegression\n",
        "log_reg = LogisticRegression()\n",
        "log_reg.fit(X,y)"
      ],
      "execution_count": 4,
      "outputs": [
        {
          "output_type": "execute_result",
          "data": {
            "text/plain": [
              "LogisticRegression(C=1.0, class_weight=None, dual=False, fit_intercept=True,\n",
              "                   intercept_scaling=1, l1_ratio=None, max_iter=100,\n",
              "                   multi_class='auto', n_jobs=None, penalty='l2',\n",
              "                   random_state=None, solver='lbfgs', tol=0.0001, verbose=0,\n",
              "                   warm_start=False)"
            ]
          },
          "metadata": {
            "tags": []
          },
          "execution_count": 4
        }
      ]
    },
    {
      "cell_type": "code",
      "metadata": {
        "id": "X6rYea6Qh6Mh",
        "colab_type": "code",
        "colab": {
          "base_uri": "https://localhost:8080/",
          "height": 257
        },
        "outputId": "f0ba74e3-8773-47fd-9f3e-2e1370bf0c5f"
      },
      "source": [
        "X_new = np.linspace(0,3,1000).reshape(-1,1)\n",
        "y_proba = log_reg.predict_proba(X_new)\n",
        "\n",
        "positive_idx = np.where(y == 1)[0]\n",
        "negative_idx = np.where(y == 0)[0]\n",
        "petal_width_1 = iris['data'][positive_idx,feature_index:]\n",
        "petal_width_0 = iris['data'][negative_idx,feature_index:]\n",
        "decision_boundary = X_new[np.where(np.abs(y_proba[:,0]-0.5) == np.min(np.abs(y_proba[:,0]-0.5)))][0]\n",
        "print('Decision Boundary where ' + iris['feature_names'][feature_index] + ' = ' + str(np.round(decision_boundary[0],2)))\n",
        "fig,ax = plt.subplots(1,1,figsize=(7,3))\n",
        "ax.plot(X_new,y_proba[:,1],'g-')\n",
        "ax.plot(X_new,y_proba[:,0],'b--')\n",
        "ax.plot(petal_width_0,np.zeros((len(petal_width_0),)),'bs')\n",
        "ax.plot(petal_width_1,np.ones((len(petal_width_1),)),'g^')\n",
        "ax.plot(decision_boundary*np.ones((100,)),np.linspace(0,1,100),'k')\n",
        "ax.grid(True)\n",
        "ax.set_ylabel('Probability')\n",
        "ax.set_xlabel(iris['feature_names'][feature_index])\n",
        "ax.set_title('Estimated Probabilities for ' + iris['target_names'][target_index]);"
      ],
      "execution_count": 5,
      "outputs": [
        {
          "output_type": "stream",
          "text": [
            "Decision Boundary where petal width (cm) = 1.66\n"
          ],
          "name": "stdout"
        },
        {
          "output_type": "display_data",
          "data": {
            "image/png": "[encoded data removed]",
            "text/plain": [
              "<Figure size 504x216 with 1 Axes>"
            ]
          },
          "metadata": {
            "tags": [],
            "needs_background": "light"
          }
        }
      ]
    },
    {
      "cell_type": "markdown",
      "metadata": {
        "id": "KkARtfE8jp0z",
        "colab_type": "text"
      },
      "source": [
        "Note from the above that the decision boundary is at petal_width = 1.66 cm. Any flower with a petal width less than this would be classified as not a virginica and viceversa. There is an overlap region between 1.5 to 1.8 cm where the classifier is less certain about this distinction."
      ]
    },
    {
      "cell_type": "markdown",
      "metadata": {
        "id": "zLCERYm2me04",
        "colab_type": "text"
      },
      "source": [
        "### Regression with both petal length and width"
      ]
    },
    {
      "cell_type": "code",
      "metadata": {
        "id": "Fn-BEF34mjXq",
        "colab_type": "code",
        "colab": {}
      },
      "source": [
        "feature_index = 2 # Get petal length\n",
        "target_index = 2 # 1 if Iris Virginica, 0 otherwise\n",
        "X2 = iris['data'][:,feature_index:] \n",
        "y = (iris['target'] == target_index).astype(np.int)"
      ],
      "execution_count": 14,
      "outputs": []
    },
    {
      "cell_type": "code",
      "metadata": {
        "id": "xOeAgSMYmx3z",
        "colab_type": "code",
        "colab": {}
      },
      "source": [
        "petal_length = np.linspace(3,7,21).reshape(-1,1)\n",
        "petal_width = np.linspace(0.75,2.75,1000).reshape(-1,1)\n",
        "\n",
        "decision_boundary_2 = np.zeros((3,petal_length.shape[0],2))\n",
        "probs = [0.25,0.5,0.75]\n",
        "\n",
        "log_reg_2 = LogisticRegression()\n",
        "log_reg_2.fit(X2,y)\n",
        "\n",
        "for i,pl in enumerate(petal_length):\n",
        "  X2_new = np.c_[pl*np.ones((len(petal_width),1)),petal_width]\n",
        "  y_proba = log_reg_2.predict_proba(X2_new)\n",
        "  for j,pr in enumerate(probs):\n",
        "    decision_boundary_2[j,i,:] = X2_new[np.where(np.abs(y_proba[:,0]-pr) == np.min(np.abs(y_proba[:,0]-pr)))[0][0],:]"
      ],
      "execution_count": 17,
      "outputs": []
    },
    {
      "cell_type": "code",
      "metadata": {
        "id": "b-b8U8yWoL2j",
        "colab_type": "code",
        "colab": {
          "base_uri": "https://localhost:8080/",
          "height": 241
        },
        "outputId": "fe7b7db3-1821-4883-dbea-22252623ffdb"
      },
      "source": [
        "fig,ax = plt.subplots(1,1,figsize=(7,3))\n",
        "ax.plot(X2[positive_idx,0],X2[positive_idx,1],'g^')\n",
        "ax.plot(X2[negative_idx,0],X2[negative_idx,1],'bs')\n",
        "ax.plot(decision_boundary_2[0][:,0],decision_boundary_2[0][:,1],'b')\n",
        "ax.plot(decision_boundary_2[1][:,0],decision_boundary_2[1][:,1],'k--')\n",
        "ax.plot(decision_boundary_2[2][:,0],decision_boundary_2[2][:,1],'g-.')\n",
        "ax.grid(True)\n",
        "ax.set_ylabel(iris['feature_names'][feature_index+1])\n",
        "ax.set_xlabel(iris['feature_names'][feature_index])\n",
        "ax.set_title('Linear Decision Boundary ' + iris['target_names'][target_index]);\n",
        "ax.set_xlim([3,7]);"
      ],
      "execution_count": 18,
      "outputs": [
        {
          "output_type": "display_data",
          "data": {
            "image/png": "[encoded data removed]",
            "text/plain": [
              "<Figure size 504x216 with 1 Axes>"
            ]
          },
          "metadata": {
            "tags": [],
            "needs_background": "light"
          }
        }
      ]
    },
    {
      "cell_type": "markdown",
      "metadata": {
        "id": "szSdkV6xBKyx",
        "colab_type": "text"
      },
      "source": [
        "## Softmax Regression"
      ]
    },
    {
      "cell_type": "code",
      "metadata": {
        "id": "m-GnNcdFBOWQ",
        "colab_type": "code",
        "colab": {
          "base_uri": "https://localhost:8080/",
          "height": 98
        },
        "outputId": "72cf8298-005c-4c6f-fa17-dc2000bb2d17"
      },
      "source": [
        "X = iris[\"data\"][:,(2,3)]\n",
        "y = iris[\"target\"]\n",
        "softmax_reg = LogisticRegression(multi_class=\"multinomial\",solver=\"lbfgs\",C=10)\n",
        "softmax_reg.fit(X,y)"
      ],
      "execution_count": 12,
      "outputs": [
        {
          "output_type": "execute_result",
          "data": {
            "text/plain": [
              "LogisticRegression(C=10, class_weight=None, dual=False, fit_intercept=True,\n",
              "                   intercept_scaling=1, l1_ratio=None, max_iter=100,\n",
              "                   multi_class='multinomial', n_jobs=None, penalty='l2',\n",
              "                   random_state=None, solver='lbfgs', tol=0.0001, verbose=0,\n",
              "                   warm_start=False)"
            ]
          },
          "metadata": {
            "tags": []
          },
          "execution_count": 12
        }
      ]
    },
    {
      "cell_type": "code",
      "metadata": {
        "id": "LxohAC08BhyN",
        "colab_type": "code",
        "colab": {
          "base_uri": "https://localhost:8080/",
          "height": 50
        },
        "outputId": "aa0b5335-b232-46c0-a6ac-9c265a07e0c9"
      },
      "source": [
        "petal_len = 5\n",
        "petal_wid = 2\n",
        "X_pred = [[5,2]]\n",
        "print(\"Class:\",softmax_reg.predict(X_pred))\n",
        "print(\"Probability:\",softmax_reg.predict_proba(X_pred))"
      ],
      "execution_count": 13,
      "outputs": [
        {
          "output_type": "stream",
          "text": [
            "Class: [2]\n",
            "Probability: [[6.38014896e-07 5.74929995e-02 9.42506362e-01]]\n"
          ],
          "name": "stdout"
        }
      ]
    },
    {
      "cell_type": "markdown",
      "metadata": {
        "id": "ujoksjXQGpPo",
        "colab_type": "text"
      },
      "source": [
        "## Support Vector Machine Classifier"
      ]
    },
    {
      "cell_type": "code",
      "metadata": {
        "id": "55ki35MXGre_",
        "colab_type": "code",
        "colab": {
          "base_uri": "https://localhost:8080/",
          "height": 33
        },
        "outputId": "c03a0501-e616-427b-d663-c01feba7be38"
      },
      "source": [
        "from sklearn.pipeline import Pipeline\n",
        "from sklearn.preprocessing import StandardScaler\n",
        "from sklearn.svm import LinearSVC\n",
        "\n",
        "y = (iris['target'] == 2).astype(np.float64) # Iris Virginica\n",
        "svm_clf = Pipeline([('scaler', StandardScaler()),('linear_svc',LinearSVC(C=1,loss=\"hinge\"))])\n",
        "svm_clf.fit(X,y)\n",
        "print(\"Class:\",svm_clf.predict(X_pred))"
      ],
      "execution_count": 19,
      "outputs": [
        {
          "output_type": "stream",
          "text": [
            "Class: [1.]\n"
          ],
          "name": "stdout"
        }
      ]
    }
  ]
}